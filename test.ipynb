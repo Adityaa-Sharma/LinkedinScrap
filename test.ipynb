{
 "cells": [
  {
   "cell_type": "code",
   "execution_count": 98,
   "metadata": {},
   "outputs": [],
   "source": [
    "from langchain_community.document_loaders import WebBaseLoader\n",
    "\n",
    "loader = WebBaseLoader(\"https://www.linkedin.com/feed/update/urn:li:activity:7275850295551635456/\")\n",
    "loader.requests_kwargs = {'verify':False}\n"
   ]
  },
  {
   "cell_type": "code",
   "execution_count": 99,
   "metadata": {},
   "outputs": [
    {
     "name": "stderr",
     "output_type": "stream",
     "text": [
      "c:\\Users\\91978\\anaconda3\\envs\\linkedin\\lib\\site-packages\\urllib3\\connectionpool.py:1099: InsecureRequestWarning: Unverified HTTPS request is being made to host 'www.linkedin.com'. Adding certificate verification is strongly advised. See: https://urllib3.readthedocs.io/en/latest/advanced-usage.html#tls-warnings\n",
      "  warnings.warn(\n"
     ]
    }
   ],
   "source": [
    "docs = loader.load()\n",
    "\n",
    "text=docs[0]\n",
    "# write the page context in a.exe file\n",
    "with open(\"a.exe\", \"w\") as f:\n",
    "    f.write(text.page_content)"
   ]
  },
  {
   "cell_type": "code",
   "execution_count": 100,
   "metadata": {},
   "outputs": [],
   "source": [
    "import dotenv\n",
    "import os\n",
    "\n",
    "dotenv.load_dotenv(dotenv.find_dotenv())\n",
    "groq_api_key = os.environ['groq_api_key']   "
   ]
  },
  {
   "cell_type": "code",
   "execution_count": 42,
   "metadata": {},
   "outputs": [
    {
     "data": {
      "text/plain": [
       "ChatOpenAI(client=<openai.resources.chat.completions.Completions object at 0x0000021184504CA0>, async_client=<openai.resources.chat.completions.AsyncCompletions object at 0x0000021184506590>, root_client=<openai.OpenAI object at 0x000002118433F790>, root_async_client=<openai.AsyncOpenAI object at 0x0000021184504CD0>, model_name='llama-3.3-70b-versatile', model_kwargs={}, openai_api_key=SecretStr('**********'), openai_api_base='https://api.groq.com/openai/v1')"
      ]
     },
     "execution_count": 42,
     "metadata": {},
     "output_type": "execute_result"
    }
   ],
   "source": [
    "from langchain_openai import ChatOpenAI\n",
    "\n",
    "llama3 = ChatOpenAI(api_key=groq_api_key, \n",
    "                    base_url=\"https://api.groq.com/openai/v1\",\n",
    "                    model=\"llama-3.3-70b-versatile\",\n",
    "                   )\n",
    "\n",
    "llama3"
   ]
  },
  {
   "cell_type": "code",
   "execution_count": 92,
   "metadata": {},
   "outputs": [],
   "source": [
    "from typing import Optional, List\n",
    "from langchain_core.pydantic_v1 import BaseModel, Field\n",
    "\n",
    "class EmailId(BaseModel):\n",
    "    Company_name: str = Field(..., description=\"Name of the company whoose email are availabe\")\n",
    "    Email: str = Field(..., description=\"Only all the available Emails ids of the company\")\n",
    "    \n",
    "class EmailIdResponse(BaseModel):\n",
    "    data: List[EmailId] = Field(..., description=\"List of companies(only whose email are present) and their email addresses\")\n"
   ]
  },
  {
   "cell_type": "code",
   "execution_count": 93,
   "metadata": {},
   "outputs": [],
   "source": [
    "structured_llama3 = llama3.with_structured_output(EmailIdResponse)"
   ]
  },
  {
   "cell_type": "code",
   "execution_count": 94,
   "metadata": {},
   "outputs": [
    {
     "data": {
      "text/plain": [
       "RunnableBinding(bound=ChatOpenAI(client=<openai.resources.chat.completions.Completions object at 0x0000021184504CA0>, async_client=<openai.resources.chat.completions.AsyncCompletions object at 0x0000021184506590>, root_client=<openai.OpenAI object at 0x000002118433F790>, root_async_client=<openai.AsyncOpenAI object at 0x0000021184504CD0>, model_name='llama-3.3-70b-versatile', model_kwargs={}, openai_api_key=SecretStr('**********'), openai_api_base='https://api.groq.com/openai/v1'), kwargs={'tools': [{'type': 'function', 'function': {'name': 'EmailIdResponse', 'description': '', 'parameters': {'type': 'object', 'properties': {'data': {'description': 'List of companies(only whose email are present) and their email addresses', 'type': 'array', 'items': {'type': 'object', 'properties': {'Company_name': {'description': 'Name of the company whoose email are availabe', 'type': 'string'}, 'Email': {'description': 'Only all the available Emails ids of the company', 'type': 'string'}}, 'required': ['Company_name', 'Email']}}}, 'required': ['data']}}}], 'parallel_tool_calls': False, 'tool_choice': {'type': 'function', 'function': {'name': 'EmailIdResponse'}}}, config={}, config_factories=[])\n",
       "| PydanticToolsParser(first_tool_only=True, tools=[<class '__main__.EmailIdResponse'>])"
      ]
     },
     "execution_count": 94,
     "metadata": {},
     "output_type": "execute_result"
    }
   ],
   "source": [
    "structured_llama3"
   ]
  },
  {
   "cell_type": "code",
   "execution_count": 95,
   "metadata": {},
   "outputs": [],
   "source": [
    "response=structured_llama3.invoke(str(text.page_content[:4000]))"
   ]
  },
  {
   "cell_type": "code",
   "execution_count": 96,
   "metadata": {},
   "outputs": [
    {
     "name": "stdout",
     "output_type": "stream",
     "text": [
      "Company: DLytica\n",
      "Email: talent.hr@dlytica.com\n",
      "------------------------------\n",
      "Company: XenelSoft Technologies Pvt Ltd\n",
      "Email: niharika.chaturvedi@xenelsoft.com\n",
      "------------------------------\n",
      "Company: XenelSoft Technologies Pvt Ltd\n",
      "Email: janvi.verma@xenelsoft.com\n",
      "------------------------------\n",
      "Company: InfoEdge\n",
      "Email: riya@naukri.com\n",
      "------------------------------\n",
      "Company: Genpact\n",
      "Email: Mohit.Prasad@genpact.com\n",
      "------------------------------\n",
      "Company: TechTorch\n",
      "Email: hr@techtorch.com\n",
      "------------------------------\n",
      "Company: Ooliga\n",
      "Email: preeti@ooliga.com\n",
      "------------------------------\n",
      "Company: Abita\n",
      "Email: k.prasanna@abits.co.in\n",
      "------------------------------\n",
      "Company: Orage Dogital\n",
      "Email: ankita.sharma@offee.in\n",
      "------------------------------\n",
      "Company: InheritX Solutions Pvt Ltd\n",
      "Email: priya.b@inheritx.com\n",
      "------------------------------\n",
      "Company: Kamoro Maxima Integra\n",
      "Email: recruitment@kamoro.com\n",
      "------------------------------\n",
      "Company: ApniBus\n",
      "Email: tanu.mishra@apnibus.com\n",
      "------------------------------\n",
      "Company: Larse Turbo\n",
      "Email: shruti.mahale@larsentoubro.com\n",
      "------------------------------\n",
      "Company: Zscaling Pvt Ltd\n",
      "Email: hr@zscaling.com\n",
      "------------------------------\n",
      "Company: Helpfulinsight Solution\n",
      "Email: prachi.jain@helpfulinsightsolution.com\n",
      "------------------------------\n"
     ]
    }
   ],
   "source": [
    "for company_email in response.data:\n",
    "    print(f\"Company: {company_email.Company_name}\")\n",
    "    print(f\"Email: {company_email.Email}\")\n",
    "    print(\"-\" * 30)"
   ]
  },
  {
   "cell_type": "code",
   "execution_count": null,
   "metadata": {},
   "outputs": [
    {
     "data": {
      "text/plain": [
       "13482"
      ]
     },
     "execution_count": 53,
     "metadata": {},
     "output_type": "execute_result"
    }
   ],
   "source": [
    "len(str(text.page_content))"
   ]
  },
  {
   "cell_type": "code",
   "execution_count": 50,
   "metadata": {},
   "outputs": [],
   "source": [
    "page_content = text.page_content[:4000]"
   ]
  },
  {
   "cell_type": "code",
   "execution_count": 51,
   "metadata": {},
   "outputs": [
    {
     "data": {
      "text/plain": [
       "\"\\n\\n\\n\\n \\n\\n\\n\\n\\n\\n\\n\\n\\n\\n\\n\\n\\n\\n\\n\\n\\n\\n\\n\\n\\nBhavesh Arora on LinkedIn: Exciting Opportunities for Freshers 🚀\\n\\nCompany: DLytica - Data Analytics… | 19 comments\\n\\n\\n\\n\\n\\n\\n\\n\\n\\n\\n\\n\\n \\n\\n\\n\\n\\n\\n\\n\\n\\n\\n\\n              Agree & Join LinkedIn\\n            \\n\\n      By clicking Continue to join or sign in, you agree to LinkedIn’s User Agreement, Privacy Policy, and Cookie Policy.\\n    \\n\\n\\n\\n\\n\\n\\n\\n\\n\\n\\n\\n\\n\\n\\n\\n\\n      Skip to main content\\n    \\n\\n\\n\\nLinkedIn\\n \\n\\n\\n\\n\\n\\n\\n\\n\\n        Articles\\n      \\n\\n\\n\\n\\n\\n\\n\\n        People\\n      \\n\\n\\n\\n\\n\\n\\n\\n        Learning\\n      \\n\\n\\n\\n\\n\\n\\n\\n        Jobs\\n      \\n\\n\\n\\n\\n\\n\\n\\n        Games\\n      \\n\\n\\n\\n\\n\\n\\n      Join now\\n    \\n\\n          Sign in\\n      \\n \\n\\n \\n\\n\\n\\n\\n\\n\\n\\n                  Bhavesh Arora’s Post\\n\\n\\n\\n\\n\\n\\n\\n\\n \\n\\n\\n\\n              Bhavesh Arora\\n            \\n \\n\\n                IIT Jodhpur - Data Analyst | Helping youth by sharing legit jobs opportunities...🇮🇳\\n            \\n\\n\\n                  \\n\\n    \\n    \\n    \\n    \\n    \\n    \\n    \\n    \\n    \\n    \\n    \\n    \\n    \\n    \\n    \\n    \\n\\n    \\n    \\n    \\n    \\n    \\n    \\n    \\n    \\n    \\n    \\n    \\n    \\n    \\n    \\n\\n      19h\\n  \\n \\n \\n\\n \\n\\n\\n\\n\\n\\n\\n\\n\\n\\n\\n\\n\\n                      Report this post\\n                    \\n    \\n\\n\\n\\n\\n \\n\\n\\n\\nExciting Opportunities for Freshers 🚀\\n\\nCompany: DLytica - Data Analytics and AI \\nRole:  Data Analyst Intern (2 positions)\\nLocation: Remote\\nLink:  talent.hr@dlytica.com by January 20, 2025\\n\\nCompany: XenelSoft Technologies Pvt Ltd \\nRole: Intern\\nExperience: Freshers\\nLocation: Noida\\nLink:  niharika.chaturvedi@xenelsoft.com\\njanvi.verma@xenelsoft.com\\n\\nCompany: @InfoEdge\\nRole: Research Analyst\\nExperience: 0.6-2 years\\nLocation: Rohini\\nLink: riya@naukri.com\\n\\nCompany: @Genpect\\nRole: Finance Analyst \\nExperience: 0-1 years\\nLocation: Noida/Hyderabad US Shift\\nLink: Mohit.Prasad@genpact.com\\n\\nCompany: @TechTorch\\nRole: Associate Data Analyst\\nExperience: 0-1 years\\nLocation: Remote\\nLink: hr@techtorch.com\\n\\nCompany: @Ooliga\\nRole: Data Analyst \\nExperience: 0-3 years\\nLocation: Bengaluru\\nLink:  preeti@ooliga.com\\n\\nCompany: @Abita\\nRole: Technical Trainee\\nExperience: 0-1 years\\nLocation: Chennai\\nLink: k.prasanna@abits.co.in\\n\\nRole: Product Analyst/Management Intern\\nExperience: 0-1 years\\nLocation: Gurugram\\nLink: https://lnkd.in/gaxytu7R\\n\\nCompany: @Orage Dogital\\nRole: Software Testing Intern\\nExperience: Fresher\\nLocation: Mumbai\\nLink: ankita.sharma@offee.in\\n\\nCompany: NVIDIA \\nRole: Applied AI Researcher\\nExperience: 2-5 years\\nLink:  https://lnkd.in/gPSUV7Qn\\n\\nCompany: InheritX Solutions Pvt Ltd \\nRole: Business Analyst\\nExperience: 0-1 years\\nLocation: Ahemdabad\\nLink: priya.b@inheritx.com\\n\\nCompany: Kamoro Maxima Integra \\nRole: Business Analyst Intern with application\\nExperience: 0-1 years\\nLink: recruitment@kamoro.com\\n\\nCompany: ApniBus \\nRole: Business Analyst Intern with Subject as 'Application for Business Analyat Intern\\nExperience: 0-1 years\\nLocation: Gurgaon\\nLink: tanu.mishra@apnibus.com\\n\\nCompany: Larse  Turbo\\nRole: Data Analyst\\nExperience: 0-1 years\\nLocation: Mumbai\\nLink: shruti.mahale@larsentoubro.com with Internship Application {Name}\\n\\nCompany: Zscaling Pvt Ltd \\nRole: Research Analyst\\nExperience: 0-1 years\\nLink:  hr@zscaling.com\\n\\nCompany: @Helpfulinsight Solution\\nRole: Business Analyst Intern\\nExperience: 0-1 years\\nLocation: Jaipur\\nLink: prachi.jain@helpfulinsightsolution.com\\n\\nCompany: Spyne \\nRole: Data Analyst Intern\\nExperience: Fresher\\nLink: https://lnkd.in/gWFiwsm7\\n\\nTags for better reach:\\xa0\\nVarsha Chitikaneni   | Kratika Jain  | Vaishnavi MURALIDHAR Shweta Kukreja Muskan Handa  | Shivam Chhirolya  | Akanksha Buchke  | Venkata Naga Sai Kumar Bysani  | Simala Om Prakash  | Kumud Deepali R.  | ChandraKumar R Pillai  | Muskan A.  | Arpita Rawal  | Saddam Ansari  | Vanshika Jindal  | Sanjay Adhikari  | Rajiv Talreja\\n \\n\\n\\n\\n \\n\\n\\n\\n\\n\\n\\n\\n\\n\\n\\n                    269\\n              \\n\\n\\n \\n\\n \\n\\n\\n\\n\\n\\n        \\n                19 Comments\\n            \\n      \\n \\n\\n\\n\\n\\n\\n      Like\\n    \\n\\n\\n\\n\\n\\n      Comment\\n    \\n\\n\\n\\n\\n\\n\\n\\n              Share\\n            \\n\\n\\n\\n\\n\\nCopy\\n\\n\\n\\n\\n\\nLinkedIn\\n\\n\\n\\n\\n\\nFacebook\\n\\n\\n\\n\\n\\nTwitter\\n\\n\\n\\n\\n \\n\\n\\n\\n\\n\\n\\n\\n\\n\\n\\n\\n\\n\\n                    Harish V\\n                  \\nTalks about #IT Audit, #Risk Analysis, #R\""
      ]
     },
     "execution_count": 51,
     "metadata": {},
     "output_type": "execute_result"
    }
   ],
   "source": [
    "page_content"
   ]
  },
  {
   "cell_type": "code",
   "execution_count": 108,
   "metadata": {},
   "outputs": [
    {
     "name": "stdout",
     "output_type": "stream",
     "text": [
      "Company: Easecruit\n",
      "Email: contact@easecruit.com\n",
      "------------------------------\n"
     ]
    }
   ],
   "source": [
    "from langchain.prompts import PromptTemplate\n",
    "class EmailId(BaseModel):\n",
    "    Company_name: str = Field(..., description=\"Name of the company\")\n",
    "    Email: str = Field(..., description=\"Email of the company\")\n",
    "    \n",
    "class EmailIdResponse(BaseModel):\n",
    "    data: List[EmailId] = Field(..., description=\"List of companies and their email addresses\")\n",
    "\n",
    "# Updated prompt template that only includes companies with emails\n",
    "template = \"\"\"\n",
    "Extract company names and their corresponding email addresses from the given text from a linkedin post, following these rules:\n",
    "\n",
    "Important Rules:\n",
    "1. ONLY include companies that have an explicitly mentioned email address in the text\n",
    "2. Skip any company that doesn't have an associated email address\n",
    "3. Each entry must have both a company name AND a valid email address\n",
    "4. Do not infer or generate email addresses - only use ones explicitly present in the text\n",
    "5. Ignore any content present in the comments section\n",
    "\n",
    "Guidelines for extraction:\n",
    "- Only extract real email addresses in the format: username@domain.com present in the main text only , ignnore comment section\n",
    "- Maintain exact spelling and formatting of company names and emails\n",
    "- If a company is mentioned multiple times but has no email, exclude it\n",
    "- If an email is found without a clear company name, skip it\n",
    "- Strictly ignore the content present in comments section. Only consider the main text\n",
    "- Never include colleges , universities or personal email addresses. Only include companies and their email addresses\n",
    "\n",
    "Text to analyze:\n",
    "{text}\n",
    "\n",
    "Return the data in a structured format where each entry contains only valid company-email pairs.\n",
    "Ensure every company in the output has an associated email address.\n",
    "Ensure that only companies are present in the output, never include colleges or individual personal profiles and their email addresses.\n",
    "\"\"\"\n",
    "\n",
    "prompt = PromptTemplate(\n",
    "    template=template,\n",
    "    input_variables=[\"text\"]\n",
    ")\n",
    "\n",
    "# Create the chain with structured output and prompt\n",
    "structured_llama3 = llama3.with_structured_output(EmailIdResponse)\n",
    "chain = prompt | structured_llama3\n",
    "\n",
    "# Invoke the chain with your text\n",
    "response = chain.invoke({\"text\": str(text.page_content[:4000])})\n",
    "\n",
    "# Process the results\n",
    "for company_email in response.data:\n",
    "    print(f\"Company: {company_email.Company_name}\")\n",
    "    print(f\"Email: {company_email.Email}\")\n",
    "    print(\"-\" * 30)\n",
    "\n",
    "# Optional: Convert to other formats\n",
    "companies_list = [{\"company\": item.Company_name, \"email\": item.Email} for item in response.data]\n",
    "companies_dict = {item.Company_name: item.Email for item in response.data}"
   ]
  },
  {
   "cell_type": "code",
   "execution_count": null,
   "metadata": {},
   "outputs": [],
   "source": []
  },
  {
   "cell_type": "code",
   "execution_count": null,
   "metadata": {},
   "outputs": [],
   "source": []
  }
 ],
 "metadata": {
  "kernelspec": {
   "display_name": "linkedin",
   "language": "python",
   "name": "python3"
  },
  "language_info": {
   "codemirror_mode": {
    "name": "ipython",
    "version": 3
   },
   "file_extension": ".py",
   "mimetype": "text/x-python",
   "name": "python",
   "nbconvert_exporter": "python",
   "pygments_lexer": "ipython3",
   "version": "3.10.0"
  }
 },
 "nbformat": 4,
 "nbformat_minor": 2
}
